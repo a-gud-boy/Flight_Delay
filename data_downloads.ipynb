{
 "cells": [
  {
   "cell_type": "code",
   "execution_count": 1,
   "id": "bc1af0ef",
   "metadata": {},
   "outputs": [],
   "source": [
    "import pandas as pd"
   ]
  },
  {
   "cell_type": "code",
   "execution_count": 4,
   "id": "b39b72d6",
   "metadata": {},
   "outputs": [],
   "source": [
    "import zipfile\n",
    "\n",
    "# Extract all files from zip to a directory\n",
    "with zipfile.ZipFile('F:\\\\Downloads\\\\Edge\\\\flights.csv.zip', 'r') as zip_ref:\n",
    "    zip_ref.extractall('data/raw/')  # Extract to your data/raw folder"
   ]
  },
  {
   "cell_type": "code",
   "execution_count": null,
   "id": "9591dcf0",
   "metadata": {},
   "outputs": [],
   "source": []
  }
 ],
 "metadata": {
  "kernelspec": {
   "display_name": "Python 3",
   "language": "python",
   "name": "python3"
  },
  "language_info": {
   "codemirror_mode": {
    "name": "ipython",
    "version": 3
   },
   "file_extension": ".py",
   "mimetype": "text/x-python",
   "name": "python",
   "nbconvert_exporter": "python",
   "pygments_lexer": "ipython3",
   "version": "3.13.7"
  }
 },
 "nbformat": 4,
 "nbformat_minor": 5
}

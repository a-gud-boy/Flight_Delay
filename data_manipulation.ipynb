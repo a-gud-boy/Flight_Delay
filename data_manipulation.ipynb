{
 "cells": [
  {
   "cell_type": "code",
   "execution_count": 1,
   "id": "7b831cd2",
   "metadata": {},
   "outputs": [],
   "source": [
    "import pandas as pd"
   ]
  },
  {
   "cell_type": "code",
   "execution_count": 4,
   "id": "69b4ca34",
   "metadata": {},
   "outputs": [
    {
     "data": {
      "application/vnd.microsoft.datawrangler.viewer.v0+json": {
       "columns": [
        {
         "name": "index",
         "rawType": "int64",
         "type": "integer"
        },
        {
         "name": "year",
         "rawType": "int64",
         "type": "integer"
        },
        {
         "name": "month",
         "rawType": "int64",
         "type": "integer"
        },
        {
         "name": "carrier",
         "rawType": "object",
         "type": "string"
        },
        {
         "name": "carrier_name",
         "rawType": "object",
         "type": "string"
        },
        {
         "name": "airport",
         "rawType": "object",
         "type": "string"
        },
        {
         "name": "airport_name",
         "rawType": "object",
         "type": "string"
        },
        {
         "name": "arr_flights",
         "rawType": "float64",
         "type": "float"
        },
        {
         "name": "arr_del15",
         "rawType": "float64",
         "type": "float"
        },
        {
         "name": "carrier_ct",
         "rawType": "float64",
         "type": "float"
        },
        {
         "name": "weather_ct",
         "rawType": "float64",
         "type": "float"
        },
        {
         "name": "nas_ct",
         "rawType": "float64",
         "type": "float"
        },
        {
         "name": "security_ct",
         "rawType": "float64",
         "type": "float"
        },
        {
         "name": "late_aircraft_ct",
         "rawType": "float64",
         "type": "float"
        },
        {
         "name": "arr_cancelled",
         "rawType": "float64",
         "type": "float"
        },
        {
         "name": "arr_diverted",
         "rawType": "float64",
         "type": "float"
        },
        {
         "name": "arr_delay",
         "rawType": "float64",
         "type": "float"
        },
        {
         "name": "carrier_delay",
         "rawType": "float64",
         "type": "float"
        },
        {
         "name": "weather_delay",
         "rawType": "float64",
         "type": "float"
        },
        {
         "name": "nas_delay",
         "rawType": "float64",
         "type": "float"
        },
        {
         "name": "security_delay",
         "rawType": "float64",
         "type": "float"
        },
        {
         "name": "late_aircraft_delay",
         "rawType": "float64",
         "type": "float"
        }
       ],
       "ref": "ebda0cab-9c40-49d3-b9b4-e5848dcf4e45",
       "rows": [
        [
         "22705",
         "2022",
         "6",
         "AA",
         "American Airlines Inc.",
         "TPA",
         "Tampa, FL: Tampa International",
         "993.0",
         "335.0",
         "117.94",
         "21.81",
         "81.65",
         "0.51",
         "113.1",
         "68.0",
         "5.0",
         "22458.0",
         "7658.0",
         "1559.0",
         "4023.0",
         "18.0",
         "9200.0"
        ],
        [
         "170235",
         "2013",
         "9",
         "9E",
         "Endeavor Air Inc.",
         "ABE",
         "Allentown/Bethlehem/Easton, PA: Lehigh Valley International",
         "55.0",
         "8.0",
         "2.53",
         "0.0",
         "3.32",
         "0.0",
         "2.15",
         "1.0",
         "0.0",
         "348.0",
         "204.0",
         "0.0",
         "83.0",
         "0.0",
         "61.0"
        ],
        [
         "1507",
         "2023",
         "8",
         "YX",
         "Republic Airline",
         "ECP",
         "Panama City, FL: Northwest Florida Beaches International",
         "20.0",
         "3.0",
         "0.0",
         "0.0",
         "1.0",
         "0.0",
         "2.0",
         "0.0",
         "0.0",
         "136.0",
         "0.0",
         "0.0",
         "24.0",
         "0.0",
         "112.0"
        ],
        [
         "68513",
         "2020",
         "2",
         "EV",
         "ExpressJet Airlines LLC",
         "LFT",
         "Lafayette, LA: Lafayette Regional Paul Fournet Field",
         "115.0",
         "13.0",
         "2.47",
         "0.93",
         "8.28",
         "0.0",
         "1.32",
         "0.0",
         "1.0",
         "500.0",
         "71.0",
         "125.0",
         "266.0",
         "0.0",
         "38.0"
        ],
        [
         "170946",
         "2013",
         "8",
         "F9",
         "Frontier Airlines Inc.",
         "GSO",
         "Greensboro/High Point, NC: Piedmont Triad International",
         "13.0",
         "3.0",
         "1.0",
         "0.0",
         "0.0",
         "0.0",
         "2.0",
         "0.0",
         "0.0",
         "135.0",
         "80.0",
         "0.0",
         "0.0",
         "0.0",
         "55.0"
        ]
       ],
       "shape": {
        "columns": 21,
        "rows": 5
       }
      },
      "text/html": [
       "<div>\n",
       "<style scoped>\n",
       "    .dataframe tbody tr th:only-of-type {\n",
       "        vertical-align: middle;\n",
       "    }\n",
       "\n",
       "    .dataframe tbody tr th {\n",
       "        vertical-align: top;\n",
       "    }\n",
       "\n",
       "    .dataframe thead th {\n",
       "        text-align: right;\n",
       "    }\n",
       "</style>\n",
       "<table border=\"1\" class=\"dataframe\">\n",
       "  <thead>\n",
       "    <tr style=\"text-align: right;\">\n",
       "      <th></th>\n",
       "      <th>year</th>\n",
       "      <th>month</th>\n",
       "      <th>carrier</th>\n",
       "      <th>carrier_name</th>\n",
       "      <th>airport</th>\n",
       "      <th>airport_name</th>\n",
       "      <th>arr_flights</th>\n",
       "      <th>arr_del15</th>\n",
       "      <th>carrier_ct</th>\n",
       "      <th>weather_ct</th>\n",
       "      <th>...</th>\n",
       "      <th>security_ct</th>\n",
       "      <th>late_aircraft_ct</th>\n",
       "      <th>arr_cancelled</th>\n",
       "      <th>arr_diverted</th>\n",
       "      <th>arr_delay</th>\n",
       "      <th>carrier_delay</th>\n",
       "      <th>weather_delay</th>\n",
       "      <th>nas_delay</th>\n",
       "      <th>security_delay</th>\n",
       "      <th>late_aircraft_delay</th>\n",
       "    </tr>\n",
       "  </thead>\n",
       "  <tbody>\n",
       "    <tr>\n",
       "      <th>22705</th>\n",
       "      <td>2022</td>\n",
       "      <td>6</td>\n",
       "      <td>AA</td>\n",
       "      <td>American Airlines Inc.</td>\n",
       "      <td>TPA</td>\n",
       "      <td>Tampa, FL: Tampa International</td>\n",
       "      <td>993.0</td>\n",
       "      <td>335.0</td>\n",
       "      <td>117.94</td>\n",
       "      <td>21.81</td>\n",
       "      <td>...</td>\n",
       "      <td>0.51</td>\n",
       "      <td>113.10</td>\n",
       "      <td>68.0</td>\n",
       "      <td>5.0</td>\n",
       "      <td>22458.0</td>\n",
       "      <td>7658.0</td>\n",
       "      <td>1559.0</td>\n",
       "      <td>4023.0</td>\n",
       "      <td>18.0</td>\n",
       "      <td>9200.0</td>\n",
       "    </tr>\n",
       "    <tr>\n",
       "      <th>170235</th>\n",
       "      <td>2013</td>\n",
       "      <td>9</td>\n",
       "      <td>9E</td>\n",
       "      <td>Endeavor Air Inc.</td>\n",
       "      <td>ABE</td>\n",
       "      <td>Allentown/Bethlehem/Easton, PA: Lehigh Valley ...</td>\n",
       "      <td>55.0</td>\n",
       "      <td>8.0</td>\n",
       "      <td>2.53</td>\n",
       "      <td>0.00</td>\n",
       "      <td>...</td>\n",
       "      <td>0.00</td>\n",
       "      <td>2.15</td>\n",
       "      <td>1.0</td>\n",
       "      <td>0.0</td>\n",
       "      <td>348.0</td>\n",
       "      <td>204.0</td>\n",
       "      <td>0.0</td>\n",
       "      <td>83.0</td>\n",
       "      <td>0.0</td>\n",
       "      <td>61.0</td>\n",
       "    </tr>\n",
       "    <tr>\n",
       "      <th>1507</th>\n",
       "      <td>2023</td>\n",
       "      <td>8</td>\n",
       "      <td>YX</td>\n",
       "      <td>Republic Airline</td>\n",
       "      <td>ECP</td>\n",
       "      <td>Panama City, FL: Northwest Florida Beaches Int...</td>\n",
       "      <td>20.0</td>\n",
       "      <td>3.0</td>\n",
       "      <td>0.00</td>\n",
       "      <td>0.00</td>\n",
       "      <td>...</td>\n",
       "      <td>0.00</td>\n",
       "      <td>2.00</td>\n",
       "      <td>0.0</td>\n",
       "      <td>0.0</td>\n",
       "      <td>136.0</td>\n",
       "      <td>0.0</td>\n",
       "      <td>0.0</td>\n",
       "      <td>24.0</td>\n",
       "      <td>0.0</td>\n",
       "      <td>112.0</td>\n",
       "    </tr>\n",
       "    <tr>\n",
       "      <th>68513</th>\n",
       "      <td>2020</td>\n",
       "      <td>2</td>\n",
       "      <td>EV</td>\n",
       "      <td>ExpressJet Airlines LLC</td>\n",
       "      <td>LFT</td>\n",
       "      <td>Lafayette, LA: Lafayette Regional Paul Fournet...</td>\n",
       "      <td>115.0</td>\n",
       "      <td>13.0</td>\n",
       "      <td>2.47</td>\n",
       "      <td>0.93</td>\n",
       "      <td>...</td>\n",
       "      <td>0.00</td>\n",
       "      <td>1.32</td>\n",
       "      <td>0.0</td>\n",
       "      <td>1.0</td>\n",
       "      <td>500.0</td>\n",
       "      <td>71.0</td>\n",
       "      <td>125.0</td>\n",
       "      <td>266.0</td>\n",
       "      <td>0.0</td>\n",
       "      <td>38.0</td>\n",
       "    </tr>\n",
       "    <tr>\n",
       "      <th>170946</th>\n",
       "      <td>2013</td>\n",
       "      <td>8</td>\n",
       "      <td>F9</td>\n",
       "      <td>Frontier Airlines Inc.</td>\n",
       "      <td>GSO</td>\n",
       "      <td>Greensboro/High Point, NC: Piedmont Triad Inte...</td>\n",
       "      <td>13.0</td>\n",
       "      <td>3.0</td>\n",
       "      <td>1.00</td>\n",
       "      <td>0.00</td>\n",
       "      <td>...</td>\n",
       "      <td>0.00</td>\n",
       "      <td>2.00</td>\n",
       "      <td>0.0</td>\n",
       "      <td>0.0</td>\n",
       "      <td>135.0</td>\n",
       "      <td>80.0</td>\n",
       "      <td>0.0</td>\n",
       "      <td>0.0</td>\n",
       "      <td>0.0</td>\n",
       "      <td>55.0</td>\n",
       "    </tr>\n",
       "  </tbody>\n",
       "</table>\n",
       "<p>5 rows × 21 columns</p>\n",
       "</div>"
      ],
      "text/plain": [
       "        year  month carrier             carrier_name airport  \\\n",
       "22705   2022      6      AA   American Airlines Inc.     TPA   \n",
       "170235  2013      9      9E        Endeavor Air Inc.     ABE   \n",
       "1507    2023      8      YX         Republic Airline     ECP   \n",
       "68513   2020      2      EV  ExpressJet Airlines LLC     LFT   \n",
       "170946  2013      8      F9   Frontier Airlines Inc.     GSO   \n",
       "\n",
       "                                             airport_name  arr_flights  \\\n",
       "22705                      Tampa, FL: Tampa International        993.0   \n",
       "170235  Allentown/Bethlehem/Easton, PA: Lehigh Valley ...         55.0   \n",
       "1507    Panama City, FL: Northwest Florida Beaches Int...         20.0   \n",
       "68513   Lafayette, LA: Lafayette Regional Paul Fournet...        115.0   \n",
       "170946  Greensboro/High Point, NC: Piedmont Triad Inte...         13.0   \n",
       "\n",
       "        arr_del15  carrier_ct  weather_ct  ...  security_ct  late_aircraft_ct  \\\n",
       "22705       335.0      117.94       21.81  ...         0.51            113.10   \n",
       "170235        8.0        2.53        0.00  ...         0.00              2.15   \n",
       "1507          3.0        0.00        0.00  ...         0.00              2.00   \n",
       "68513        13.0        2.47        0.93  ...         0.00              1.32   \n",
       "170946        3.0        1.00        0.00  ...         0.00              2.00   \n",
       "\n",
       "        arr_cancelled  arr_diverted  arr_delay  carrier_delay  weather_delay  \\\n",
       "22705            68.0           5.0    22458.0         7658.0         1559.0   \n",
       "170235            1.0           0.0      348.0          204.0            0.0   \n",
       "1507              0.0           0.0      136.0            0.0            0.0   \n",
       "68513             0.0           1.0      500.0           71.0          125.0   \n",
       "170946            0.0           0.0      135.0           80.0            0.0   \n",
       "\n",
       "        nas_delay  security_delay  late_aircraft_delay  \n",
       "22705      4023.0            18.0               9200.0  \n",
       "170235       83.0             0.0                 61.0  \n",
       "1507         24.0             0.0                112.0  \n",
       "68513       266.0             0.0                 38.0  \n",
       "170946        0.0             0.0                 55.0  \n",
       "\n",
       "[5 rows x 21 columns]"
      ]
     },
     "execution_count": 4,
     "metadata": {},
     "output_type": "execute_result"
    }
   ],
   "source": [
    "df = pd.read_csv('data\\\\raw\\\\Airline_Delay_Cause.csv')\n",
    "df.sample(5)"
   ]
  },
  {
   "cell_type": "code",
   "execution_count": 5,
   "id": "bcaf3f53",
   "metadata": {},
   "outputs": [
    {
     "data": {
      "text/plain": [
       "array([2023, 2022, 2021, 2020, 2019, 2018, 2017, 2016, 2015, 2014, 2013])"
      ]
     },
     "execution_count": 5,
     "metadata": {},
     "output_type": "execute_result"
    }
   ],
   "source": [
    "df.year.unique()"
   ]
  },
  {
   "cell_type": "code",
   "execution_count": 6,
   "id": "2e505a92",
   "metadata": {},
   "outputs": [
    {
     "data": {
      "application/vnd.microsoft.datawrangler.viewer.v0+json": {
       "columns": [
        {
         "name": "year",
         "rawType": "int64",
         "type": "integer"
        },
        {
         "name": "0",
         "rawType": "int64",
         "type": "integer"
        }
       ],
       "ref": "b617338b-e40c-4b65-aa98-f20c8b833698",
       "rows": [
        [
         "2013",
         "6733"
        ],
        [
         "2014",
         "13980"
        ],
        [
         "2015",
         "13528"
        ],
        [
         "2016",
         "12217"
        ],
        [
         "2017",
         "12518"
        ],
        [
         "2018",
         "20213"
        ],
        [
         "2019",
         "20946"
        ],
        [
         "2020",
         "18859"
        ],
        [
         "2021",
         "19954"
        ],
        [
         "2022",
         "20345"
        ],
        [
         "2023",
         "12373"
        ]
       ],
       "shape": {
        "columns": 1,
        "rows": 11
       }
      },
      "text/plain": [
       "year\n",
       "2013     6733\n",
       "2014    13980\n",
       "2015    13528\n",
       "2016    12217\n",
       "2017    12518\n",
       "2018    20213\n",
       "2019    20946\n",
       "2020    18859\n",
       "2021    19954\n",
       "2022    20345\n",
       "2023    12373\n",
       "dtype: int64"
      ]
     },
     "execution_count": 6,
     "metadata": {},
     "output_type": "execute_result"
    }
   ],
   "source": [
    "df.groupby('year').size()"
   ]
  }
 ],
 "metadata": {
  "kernelspec": {
   "display_name": "Python 3",
   "language": "python",
   "name": "python3"
  },
  "language_info": {
   "codemirror_mode": {
    "name": "ipython",
    "version": 3
   },
   "file_extension": ".py",
   "mimetype": "text/x-python",
   "name": "python",
   "nbconvert_exporter": "python",
   "pygments_lexer": "ipython3",
   "version": "3.13.7"
  }
 },
 "nbformat": 4,
 "nbformat_minor": 5
}

{
 "cells": [
  {
   "cell_type": "code",
   "execution_count": 2,
   "id": "7b831cd2",
   "metadata": {},
   "outputs": [],
   "source": [
    "import pandas as pd"
   ]
  },
  {
   "cell_type": "code",
   "execution_count": 4,
   "id": "69b4ca34",
   "metadata": {},
   "outputs": [
    {
     "data": {
      "application/vnd.microsoft.datawrangler.viewer.v0+json": {
       "columns": [
        {
         "name": "index",
         "rawType": "int64",
         "type": "integer"
        },
        {
         "name": "IATA_CODE",
         "rawType": "object",
         "type": "string"
        },
        {
         "name": "AIRLINE",
         "rawType": "object",
         "type": "string"
        }
       ],
       "ref": "ee614260-f050-4a7b-a833-1b7e0887b30b",
       "rows": [
        [
         "5",
         "OO",
         "Skywest Airlines Inc."
        ],
        [
         "12",
         "MQ",
         "American Eagle Airlines Inc."
        ],
        [
         "3",
         "F9",
         "Frontier Airlines Inc."
        ],
        [
         "4",
         "B6",
         "JetBlue Airways"
        ],
        [
         "13",
         "VX",
         "Virgin America"
        ]
       ],
       "shape": {
        "columns": 2,
        "rows": 5
       }
      },
      "text/html": [
       "<div>\n",
       "<style scoped>\n",
       "    .dataframe tbody tr th:only-of-type {\n",
       "        vertical-align: middle;\n",
       "    }\n",
       "\n",
       "    .dataframe tbody tr th {\n",
       "        vertical-align: top;\n",
       "    }\n",
       "\n",
       "    .dataframe thead th {\n",
       "        text-align: right;\n",
       "    }\n",
       "</style>\n",
       "<table border=\"1\" class=\"dataframe\">\n",
       "  <thead>\n",
       "    <tr style=\"text-align: right;\">\n",
       "      <th></th>\n",
       "      <th>IATA_CODE</th>\n",
       "      <th>AIRLINE</th>\n",
       "    </tr>\n",
       "  </thead>\n",
       "  <tbody>\n",
       "    <tr>\n",
       "      <th>5</th>\n",
       "      <td>OO</td>\n",
       "      <td>Skywest Airlines Inc.</td>\n",
       "    </tr>\n",
       "    <tr>\n",
       "      <th>12</th>\n",
       "      <td>MQ</td>\n",
       "      <td>American Eagle Airlines Inc.</td>\n",
       "    </tr>\n",
       "    <tr>\n",
       "      <th>3</th>\n",
       "      <td>F9</td>\n",
       "      <td>Frontier Airlines Inc.</td>\n",
       "    </tr>\n",
       "    <tr>\n",
       "      <th>4</th>\n",
       "      <td>B6</td>\n",
       "      <td>JetBlue Airways</td>\n",
       "    </tr>\n",
       "    <tr>\n",
       "      <th>13</th>\n",
       "      <td>VX</td>\n",
       "      <td>Virgin America</td>\n",
       "    </tr>\n",
       "  </tbody>\n",
       "</table>\n",
       "</div>"
      ],
      "text/plain": [
       "   IATA_CODE                       AIRLINE\n",
       "5         OO         Skywest Airlines Inc.\n",
       "12        MQ  American Eagle Airlines Inc.\n",
       "3         F9        Frontier Airlines Inc.\n",
       "4         B6               JetBlue Airways\n",
       "13        VX                Virgin America"
      ]
     },
     "execution_count": 4,
     "metadata": {},
     "output_type": "execute_result"
    }
   ],
   "source": [
    "airline_df = pd.read_csv('data\\\\raw\\\\airlines.csv')\n",
    "airline_df.sample(5)"
   ]
  },
  {
   "cell_type": "code",
   "execution_count": 5,
   "id": "e8c7941c",
   "metadata": {},
   "outputs": [
    {
     "data": {
      "application/vnd.microsoft.datawrangler.viewer.v0+json": {
       "columns": [
        {
         "name": "index",
         "rawType": "int64",
         "type": "integer"
        },
        {
         "name": "IATA_CODE",
         "rawType": "object",
         "type": "string"
        },
        {
         "name": "AIRPORT",
         "rawType": "object",
         "type": "string"
        },
        {
         "name": "CITY",
         "rawType": "object",
         "type": "string"
        },
        {
         "name": "STATE",
         "rawType": "object",
         "type": "string"
        },
        {
         "name": "COUNTRY",
         "rawType": "object",
         "type": "string"
        },
        {
         "name": "LATITUDE",
         "rawType": "float64",
         "type": "float"
        },
        {
         "name": "LONGITUDE",
         "rawType": "float64",
         "type": "float"
        }
       ],
       "ref": "b6bf434d-0340-47dc-bb9a-35344e807ae6",
       "rows": [
        [
         "316",
         "VPS",
         "Destin-Fort Walton Beach Airport/Eglin AFB",
         "Valparaiso",
         "FL",
         "USA",
         "30.48325",
         "-86.5254"
        ],
        [
         "22",
         "AUS",
         "Austin-Bergstrom International Airport",
         "Austin",
         "TX",
         "USA",
         "30.19453",
         "-97.66987"
        ],
        [
         "159",
         "ISN",
         "Sloulin Field International Airport",
         "Williston",
         "ND",
         "USA",
         "48.17794",
         "-103.64235"
        ],
        [
         "105",
         "EWN",
         "Coastal Carolina Regional Airport (Craven County Regional)",
         "New Bern",
         "NC",
         "USA",
         "35.07297",
         "-77.04294"
        ],
        [
         "117",
         "FSM",
         "Fort Smith Regional Airport",
         "Fort Smith",
         "AR",
         "USA",
         "35.33659",
         "-94.36744"
        ]
       ],
       "shape": {
        "columns": 7,
        "rows": 5
       }
      },
      "text/html": [
       "<div>\n",
       "<style scoped>\n",
       "    .dataframe tbody tr th:only-of-type {\n",
       "        vertical-align: middle;\n",
       "    }\n",
       "\n",
       "    .dataframe tbody tr th {\n",
       "        vertical-align: top;\n",
       "    }\n",
       "\n",
       "    .dataframe thead th {\n",
       "        text-align: right;\n",
       "    }\n",
       "</style>\n",
       "<table border=\"1\" class=\"dataframe\">\n",
       "  <thead>\n",
       "    <tr style=\"text-align: right;\">\n",
       "      <th></th>\n",
       "      <th>IATA_CODE</th>\n",
       "      <th>AIRPORT</th>\n",
       "      <th>CITY</th>\n",
       "      <th>STATE</th>\n",
       "      <th>COUNTRY</th>\n",
       "      <th>LATITUDE</th>\n",
       "      <th>LONGITUDE</th>\n",
       "    </tr>\n",
       "  </thead>\n",
       "  <tbody>\n",
       "    <tr>\n",
       "      <th>316</th>\n",
       "      <td>VPS</td>\n",
       "      <td>Destin-Fort Walton Beach Airport/Eglin AFB</td>\n",
       "      <td>Valparaiso</td>\n",
       "      <td>FL</td>\n",
       "      <td>USA</td>\n",
       "      <td>30.48325</td>\n",
       "      <td>-86.52540</td>\n",
       "    </tr>\n",
       "    <tr>\n",
       "      <th>22</th>\n",
       "      <td>AUS</td>\n",
       "      <td>Austin-Bergstrom International Airport</td>\n",
       "      <td>Austin</td>\n",
       "      <td>TX</td>\n",
       "      <td>USA</td>\n",
       "      <td>30.19453</td>\n",
       "      <td>-97.66987</td>\n",
       "    </tr>\n",
       "    <tr>\n",
       "      <th>159</th>\n",
       "      <td>ISN</td>\n",
       "      <td>Sloulin Field International Airport</td>\n",
       "      <td>Williston</td>\n",
       "      <td>ND</td>\n",
       "      <td>USA</td>\n",
       "      <td>48.17794</td>\n",
       "      <td>-103.64235</td>\n",
       "    </tr>\n",
       "    <tr>\n",
       "      <th>105</th>\n",
       "      <td>EWN</td>\n",
       "      <td>Coastal Carolina Regional Airport (Craven Coun...</td>\n",
       "      <td>New Bern</td>\n",
       "      <td>NC</td>\n",
       "      <td>USA</td>\n",
       "      <td>35.07297</td>\n",
       "      <td>-77.04294</td>\n",
       "    </tr>\n",
       "    <tr>\n",
       "      <th>117</th>\n",
       "      <td>FSM</td>\n",
       "      <td>Fort Smith Regional Airport</td>\n",
       "      <td>Fort Smith</td>\n",
       "      <td>AR</td>\n",
       "      <td>USA</td>\n",
       "      <td>35.33659</td>\n",
       "      <td>-94.36744</td>\n",
       "    </tr>\n",
       "  </tbody>\n",
       "</table>\n",
       "</div>"
      ],
      "text/plain": [
       "    IATA_CODE                                            AIRPORT        CITY  \\\n",
       "316       VPS         Destin-Fort Walton Beach Airport/Eglin AFB  Valparaiso   \n",
       "22        AUS             Austin-Bergstrom International Airport      Austin   \n",
       "159       ISN                Sloulin Field International Airport   Williston   \n",
       "105       EWN  Coastal Carolina Regional Airport (Craven Coun...    New Bern   \n",
       "117       FSM                        Fort Smith Regional Airport  Fort Smith   \n",
       "\n",
       "    STATE COUNTRY  LATITUDE  LONGITUDE  \n",
       "316    FL     USA  30.48325  -86.52540  \n",
       "22     TX     USA  30.19453  -97.66987  \n",
       "159    ND     USA  48.17794 -103.64235  \n",
       "105    NC     USA  35.07297  -77.04294  \n",
       "117    AR     USA  35.33659  -94.36744  "
      ]
     },
     "execution_count": 5,
     "metadata": {},
     "output_type": "execute_result"
    }
   ],
   "source": [
    "airport_df = pd.read_csv('data\\\\raw\\\\airports.csv')\n",
    "airport_df.sample(5)"
   ]
  },
  {
   "cell_type": "code",
   "execution_count": 6,
   "id": "963ec556",
   "metadata": {},
   "outputs": [
    {
     "name": "stderr",
     "output_type": "stream",
     "text": [
      "C:\\Users\\user\\AppData\\Local\\Temp\\ipykernel_14184\\2406861582.py:1: DtypeWarning: Columns (7,8) have mixed types. Specify dtype option on import or set low_memory=False.\n",
      "  flight_df = pd.read_csv('data\\\\raw\\\\flights.csv')\n"
     ]
    },
    {
     "data": {
      "application/vnd.microsoft.datawrangler.viewer.v0+json": {
       "columns": [
        {
         "name": "index",
         "rawType": "int64",
         "type": "integer"
        },
        {
         "name": "YEAR",
         "rawType": "int64",
         "type": "integer"
        },
        {
         "name": "MONTH",
         "rawType": "int64",
         "type": "integer"
        },
        {
         "name": "DAY",
         "rawType": "int64",
         "type": "integer"
        },
        {
         "name": "DAY_OF_WEEK",
         "rawType": "int64",
         "type": "integer"
        },
        {
         "name": "AIRLINE",
         "rawType": "object",
         "type": "string"
        },
        {
         "name": "FLIGHT_NUMBER",
         "rawType": "int64",
         "type": "integer"
        },
        {
         "name": "TAIL_NUMBER",
         "rawType": "object",
         "type": "string"
        },
        {
         "name": "ORIGIN_AIRPORT",
         "rawType": "object",
         "type": "string"
        },
        {
         "name": "DESTINATION_AIRPORT",
         "rawType": "object",
         "type": "string"
        },
        {
         "name": "SCHEDULED_DEPARTURE",
         "rawType": "int64",
         "type": "integer"
        },
        {
         "name": "DEPARTURE_TIME",
         "rawType": "float64",
         "type": "float"
        },
        {
         "name": "DEPARTURE_DELAY",
         "rawType": "float64",
         "type": "float"
        },
        {
         "name": "TAXI_OUT",
         "rawType": "float64",
         "type": "float"
        },
        {
         "name": "WHEELS_OFF",
         "rawType": "float64",
         "type": "float"
        },
        {
         "name": "SCHEDULED_TIME",
         "rawType": "float64",
         "type": "float"
        },
        {
         "name": "ELAPSED_TIME",
         "rawType": "float64",
         "type": "float"
        },
        {
         "name": "AIR_TIME",
         "rawType": "float64",
         "type": "float"
        },
        {
         "name": "DISTANCE",
         "rawType": "int64",
         "type": "integer"
        },
        {
         "name": "WHEELS_ON",
         "rawType": "float64",
         "type": "float"
        },
        {
         "name": "TAXI_IN",
         "rawType": "float64",
         "type": "float"
        },
        {
         "name": "SCHEDULED_ARRIVAL",
         "rawType": "int64",
         "type": "integer"
        },
        {
         "name": "ARRIVAL_TIME",
         "rawType": "float64",
         "type": "float"
        },
        {
         "name": "ARRIVAL_DELAY",
         "rawType": "float64",
         "type": "float"
        },
        {
         "name": "DIVERTED",
         "rawType": "int64",
         "type": "integer"
        },
        {
         "name": "CANCELLED",
         "rawType": "int64",
         "type": "integer"
        },
        {
         "name": "CANCELLATION_REASON",
         "rawType": "object",
         "type": "unknown"
        },
        {
         "name": "AIR_SYSTEM_DELAY",
         "rawType": "float64",
         "type": "float"
        },
        {
         "name": "SECURITY_DELAY",
         "rawType": "float64",
         "type": "float"
        },
        {
         "name": "AIRLINE_DELAY",
         "rawType": "float64",
         "type": "float"
        },
        {
         "name": "LATE_AIRCRAFT_DELAY",
         "rawType": "float64",
         "type": "float"
        },
        {
         "name": "WEATHER_DELAY",
         "rawType": "float64",
         "type": "float"
        }
       ],
       "ref": "27657e6d-d386-4a69-8cfe-5c52ba00b543",
       "rows": [
        [
         "5632350",
         "2015",
         "12",
         "19",
         "6",
         "AA",
         "2430",
         "N4XLAA",
         "CMH",
         "DFW",
         "1910",
         "1921.0",
         "11.0",
         "8.0",
         "1929.0",
         "178.0",
         "136.0",
         "126.0",
         "926",
         "2035.0",
         "2.0",
         "2108",
         "2037.0",
         "-31.0",
         "0",
         "0",
         null,
         null,
         null,
         null,
         null,
         null
        ],
        [
         "4156359",
         "2015",
         "9",
         "16",
         "3",
         "DL",
         "1151",
         "N372DA",
         "MSP",
         "SFO",
         "1140",
         "1132.0",
         "-8.0",
         "18.0",
         "1150.0",
         "242.0",
         "257.0",
         "230.0",
         "1589",
         "1340.0",
         "9.0",
         "1342",
         "1349.0",
         "7.0",
         "0",
         "0",
         null,
         null,
         null,
         null,
         null,
         null
        ],
        [
         "1180492",
         "2015",
         "3",
         "18",
         "3",
         "DL",
         "1967",
         "N953AT",
         "CHA",
         "ATL",
         "1105",
         "1104.0",
         "-1.0",
         "13.0",
         "1117.0",
         "50.0",
         "42.0",
         "24.0",
         "106",
         "1141.0",
         "5.0",
         "1155",
         "1146.0",
         "-9.0",
         "0",
         "0",
         null,
         null,
         null,
         null,
         null,
         null
        ],
        [
         "2919188",
         "2015",
         "7",
         "2",
         "4",
         "WN",
         "4295",
         "N496WN",
         "HOU",
         "EWR",
         "1725",
         "1724.0",
         "-1.0",
         "11.0",
         "1735.0",
         "210.0",
         "202.0",
         "184.0",
         "1411",
         "2139.0",
         "7.0",
         "2155",
         "2146.0",
         "-9.0",
         "0",
         "0",
         null,
         null,
         null,
         null,
         null,
         null
        ],
        [
         "2229914",
         "2015",
         "5",
         "22",
         "5",
         "OO",
         "4596",
         "N824SK",
         "GTF",
         "MSP",
         "600",
         "553.0",
         "-7.0",
         "13.0",
         "606.0",
         "138.0",
         "134.0",
         "115.0",
         "887",
         "901.0",
         "6.0",
         "918",
         "907.0",
         "-11.0",
         "0",
         "0",
         null,
         null,
         null,
         null,
         null,
         null
        ]
       ],
       "shape": {
        "columns": 31,
        "rows": 5
       }
      },
      "text/html": [
       "<div>\n",
       "<style scoped>\n",
       "    .dataframe tbody tr th:only-of-type {\n",
       "        vertical-align: middle;\n",
       "    }\n",
       "\n",
       "    .dataframe tbody tr th {\n",
       "        vertical-align: top;\n",
       "    }\n",
       "\n",
       "    .dataframe thead th {\n",
       "        text-align: right;\n",
       "    }\n",
       "</style>\n",
       "<table border=\"1\" class=\"dataframe\">\n",
       "  <thead>\n",
       "    <tr style=\"text-align: right;\">\n",
       "      <th></th>\n",
       "      <th>YEAR</th>\n",
       "      <th>MONTH</th>\n",
       "      <th>DAY</th>\n",
       "      <th>DAY_OF_WEEK</th>\n",
       "      <th>AIRLINE</th>\n",
       "      <th>FLIGHT_NUMBER</th>\n",
       "      <th>TAIL_NUMBER</th>\n",
       "      <th>ORIGIN_AIRPORT</th>\n",
       "      <th>DESTINATION_AIRPORT</th>\n",
       "      <th>SCHEDULED_DEPARTURE</th>\n",
       "      <th>...</th>\n",
       "      <th>ARRIVAL_TIME</th>\n",
       "      <th>ARRIVAL_DELAY</th>\n",
       "      <th>DIVERTED</th>\n",
       "      <th>CANCELLED</th>\n",
       "      <th>CANCELLATION_REASON</th>\n",
       "      <th>AIR_SYSTEM_DELAY</th>\n",
       "      <th>SECURITY_DELAY</th>\n",
       "      <th>AIRLINE_DELAY</th>\n",
       "      <th>LATE_AIRCRAFT_DELAY</th>\n",
       "      <th>WEATHER_DELAY</th>\n",
       "    </tr>\n",
       "  </thead>\n",
       "  <tbody>\n",
       "    <tr>\n",
       "      <th>5632350</th>\n",
       "      <td>2015</td>\n",
       "      <td>12</td>\n",
       "      <td>19</td>\n",
       "      <td>6</td>\n",
       "      <td>AA</td>\n",
       "      <td>2430</td>\n",
       "      <td>N4XLAA</td>\n",
       "      <td>CMH</td>\n",
       "      <td>DFW</td>\n",
       "      <td>1910</td>\n",
       "      <td>...</td>\n",
       "      <td>2037.0</td>\n",
       "      <td>-31.0</td>\n",
       "      <td>0</td>\n",
       "      <td>0</td>\n",
       "      <td>NaN</td>\n",
       "      <td>NaN</td>\n",
       "      <td>NaN</td>\n",
       "      <td>NaN</td>\n",
       "      <td>NaN</td>\n",
       "      <td>NaN</td>\n",
       "    </tr>\n",
       "    <tr>\n",
       "      <th>4156359</th>\n",
       "      <td>2015</td>\n",
       "      <td>9</td>\n",
       "      <td>16</td>\n",
       "      <td>3</td>\n",
       "      <td>DL</td>\n",
       "      <td>1151</td>\n",
       "      <td>N372DA</td>\n",
       "      <td>MSP</td>\n",
       "      <td>SFO</td>\n",
       "      <td>1140</td>\n",
       "      <td>...</td>\n",
       "      <td>1349.0</td>\n",
       "      <td>7.0</td>\n",
       "      <td>0</td>\n",
       "      <td>0</td>\n",
       "      <td>NaN</td>\n",
       "      <td>NaN</td>\n",
       "      <td>NaN</td>\n",
       "      <td>NaN</td>\n",
       "      <td>NaN</td>\n",
       "      <td>NaN</td>\n",
       "    </tr>\n",
       "    <tr>\n",
       "      <th>1180492</th>\n",
       "      <td>2015</td>\n",
       "      <td>3</td>\n",
       "      <td>18</td>\n",
       "      <td>3</td>\n",
       "      <td>DL</td>\n",
       "      <td>1967</td>\n",
       "      <td>N953AT</td>\n",
       "      <td>CHA</td>\n",
       "      <td>ATL</td>\n",
       "      <td>1105</td>\n",
       "      <td>...</td>\n",
       "      <td>1146.0</td>\n",
       "      <td>-9.0</td>\n",
       "      <td>0</td>\n",
       "      <td>0</td>\n",
       "      <td>NaN</td>\n",
       "      <td>NaN</td>\n",
       "      <td>NaN</td>\n",
       "      <td>NaN</td>\n",
       "      <td>NaN</td>\n",
       "      <td>NaN</td>\n",
       "    </tr>\n",
       "    <tr>\n",
       "      <th>2919188</th>\n",
       "      <td>2015</td>\n",
       "      <td>7</td>\n",
       "      <td>2</td>\n",
       "      <td>4</td>\n",
       "      <td>WN</td>\n",
       "      <td>4295</td>\n",
       "      <td>N496WN</td>\n",
       "      <td>HOU</td>\n",
       "      <td>EWR</td>\n",
       "      <td>1725</td>\n",
       "      <td>...</td>\n",
       "      <td>2146.0</td>\n",
       "      <td>-9.0</td>\n",
       "      <td>0</td>\n",
       "      <td>0</td>\n",
       "      <td>NaN</td>\n",
       "      <td>NaN</td>\n",
       "      <td>NaN</td>\n",
       "      <td>NaN</td>\n",
       "      <td>NaN</td>\n",
       "      <td>NaN</td>\n",
       "    </tr>\n",
       "    <tr>\n",
       "      <th>2229914</th>\n",
       "      <td>2015</td>\n",
       "      <td>5</td>\n",
       "      <td>22</td>\n",
       "      <td>5</td>\n",
       "      <td>OO</td>\n",
       "      <td>4596</td>\n",
       "      <td>N824SK</td>\n",
       "      <td>GTF</td>\n",
       "      <td>MSP</td>\n",
       "      <td>600</td>\n",
       "      <td>...</td>\n",
       "      <td>907.0</td>\n",
       "      <td>-11.0</td>\n",
       "      <td>0</td>\n",
       "      <td>0</td>\n",
       "      <td>NaN</td>\n",
       "      <td>NaN</td>\n",
       "      <td>NaN</td>\n",
       "      <td>NaN</td>\n",
       "      <td>NaN</td>\n",
       "      <td>NaN</td>\n",
       "    </tr>\n",
       "  </tbody>\n",
       "</table>\n",
       "<p>5 rows × 31 columns</p>\n",
       "</div>"
      ],
      "text/plain": [
       "         YEAR  MONTH  DAY  DAY_OF_WEEK AIRLINE  FLIGHT_NUMBER TAIL_NUMBER  \\\n",
       "5632350  2015     12   19            6      AA           2430      N4XLAA   \n",
       "4156359  2015      9   16            3      DL           1151      N372DA   \n",
       "1180492  2015      3   18            3      DL           1967      N953AT   \n",
       "2919188  2015      7    2            4      WN           4295      N496WN   \n",
       "2229914  2015      5   22            5      OO           4596      N824SK   \n",
       "\n",
       "        ORIGIN_AIRPORT DESTINATION_AIRPORT  SCHEDULED_DEPARTURE  ...  \\\n",
       "5632350            CMH                 DFW                 1910  ...   \n",
       "4156359            MSP                 SFO                 1140  ...   \n",
       "1180492            CHA                 ATL                 1105  ...   \n",
       "2919188            HOU                 EWR                 1725  ...   \n",
       "2229914            GTF                 MSP                  600  ...   \n",
       "\n",
       "         ARRIVAL_TIME  ARRIVAL_DELAY  DIVERTED  CANCELLED  \\\n",
       "5632350        2037.0          -31.0         0          0   \n",
       "4156359        1349.0            7.0         0          0   \n",
       "1180492        1146.0           -9.0         0          0   \n",
       "2919188        2146.0           -9.0         0          0   \n",
       "2229914         907.0          -11.0         0          0   \n",
       "\n",
       "         CANCELLATION_REASON  AIR_SYSTEM_DELAY  SECURITY_DELAY  AIRLINE_DELAY  \\\n",
       "5632350                  NaN               NaN             NaN            NaN   \n",
       "4156359                  NaN               NaN             NaN            NaN   \n",
       "1180492                  NaN               NaN             NaN            NaN   \n",
       "2919188                  NaN               NaN             NaN            NaN   \n",
       "2229914                  NaN               NaN             NaN            NaN   \n",
       "\n",
       "         LATE_AIRCRAFT_DELAY  WEATHER_DELAY  \n",
       "5632350                  NaN            NaN  \n",
       "4156359                  NaN            NaN  \n",
       "1180492                  NaN            NaN  \n",
       "2919188                  NaN            NaN  \n",
       "2229914                  NaN            NaN  \n",
       "\n",
       "[5 rows x 31 columns]"
      ]
     },
     "execution_count": 6,
     "metadata": {},
     "output_type": "execute_result"
    }
   ],
   "source": [
    "flight_df = pd.read_csv('data\\\\raw\\\\flights.csv')\n",
    "flight_df.sample(5)"
   ]
  },
  {
   "cell_type": "code",
   "execution_count": 11,
   "id": "81fa605e",
   "metadata": {},
   "outputs": [
    {
     "data": {
      "application/vnd.microsoft.datawrangler.viewer.v0+json": {
       "columns": [
        {
         "name": "index",
         "rawType": "int64",
         "type": "integer"
        },
        {
         "name": "CANCELLED",
         "rawType": "int64",
         "type": "integer"
        },
        {
         "name": "CANCELLATION_REASON",
         "rawType": "object",
         "type": "unknown"
        }
       ],
       "ref": "8e8b45fd-6718-4675-b408-011b16db59b5",
       "rows": [
        [
         "1813609",
         "0",
         null
        ],
        [
         "4224539",
         "0",
         null
        ],
        [
         "202199",
         "0",
         null
        ],
        [
         "3168785",
         "0",
         null
        ],
        [
         "5461290",
         "0",
         null
        ]
       ],
       "shape": {
        "columns": 2,
        "rows": 5
       }
      },
      "text/html": [
       "<div>\n",
       "<style scoped>\n",
       "    .dataframe tbody tr th:only-of-type {\n",
       "        vertical-align: middle;\n",
       "    }\n",
       "\n",
       "    .dataframe tbody tr th {\n",
       "        vertical-align: top;\n",
       "    }\n",
       "\n",
       "    .dataframe thead th {\n",
       "        text-align: right;\n",
       "    }\n",
       "</style>\n",
       "<table border=\"1\" class=\"dataframe\">\n",
       "  <thead>\n",
       "    <tr style=\"text-align: right;\">\n",
       "      <th></th>\n",
       "      <th>CANCELLED</th>\n",
       "      <th>CANCELLATION_REASON</th>\n",
       "    </tr>\n",
       "  </thead>\n",
       "  <tbody>\n",
       "    <tr>\n",
       "      <th>1813609</th>\n",
       "      <td>0</td>\n",
       "      <td>NaN</td>\n",
       "    </tr>\n",
       "    <tr>\n",
       "      <th>4224539</th>\n",
       "      <td>0</td>\n",
       "      <td>NaN</td>\n",
       "    </tr>\n",
       "    <tr>\n",
       "      <th>202199</th>\n",
       "      <td>0</td>\n",
       "      <td>NaN</td>\n",
       "    </tr>\n",
       "    <tr>\n",
       "      <th>3168785</th>\n",
       "      <td>0</td>\n",
       "      <td>NaN</td>\n",
       "    </tr>\n",
       "    <tr>\n",
       "      <th>5461290</th>\n",
       "      <td>0</td>\n",
       "      <td>NaN</td>\n",
       "    </tr>\n",
       "  </tbody>\n",
       "</table>\n",
       "</div>"
      ],
      "text/plain": [
       "         CANCELLED CANCELLATION_REASON\n",
       "1813609          0                 NaN\n",
       "4224539          0                 NaN\n",
       "202199           0                 NaN\n",
       "3168785          0                 NaN\n",
       "5461290          0                 NaN"
      ]
     },
     "execution_count": 11,
     "metadata": {},
     "output_type": "execute_result"
    }
   ],
   "source": [
    "cancel_flight_df = flight_df[['CANCELLED', 'CANCELLATION_REASON']]\n",
    "flight_df.drop(columns=['CANCELLED', 'CANCELLATION_REASON'], inplace=True)\n",
    "cancel_flight_df.sample(5)"
   ]
  },
  {
   "cell_type": "code",
   "execution_count": 12,
   "id": "c2837a6b",
   "metadata": {},
   "outputs": [
    {
     "data": {
      "text/plain": [
       "Index(['YEAR', 'MONTH', 'DAY', 'DAY_OF_WEEK', 'AIRLINE', 'FLIGHT_NUMBER',\n",
       "       'TAIL_NUMBER', 'ORIGIN_AIRPORT', 'DESTINATION_AIRPORT',\n",
       "       'SCHEDULED_DEPARTURE', 'DEPARTURE_TIME', 'DEPARTURE_DELAY', 'TAXI_OUT',\n",
       "       'WHEELS_OFF', 'SCHEDULED_TIME', 'ELAPSED_TIME', 'AIR_TIME', 'DISTANCE',\n",
       "       'WHEELS_ON', 'TAXI_IN', 'SCHEDULED_ARRIVAL', 'ARRIVAL_TIME',\n",
       "       'ARRIVAL_DELAY', 'DIVERTED', 'AIR_SYSTEM_DELAY', 'SECURITY_DELAY',\n",
       "       'AIRLINE_DELAY', 'LATE_AIRCRAFT_DELAY', 'WEATHER_DELAY'],\n",
       "      dtype='object')"
      ]
     },
     "execution_count": 12,
     "metadata": {},
     "output_type": "execute_result"
    }
   ],
   "source": [
    "flight_df.columns"
   ]
  },
  {
   "cell_type": "code",
   "execution_count": null,
   "id": "d4055eba",
   "metadata": {},
   "outputs": [],
   "source": []
  }
 ],
 "metadata": {
  "kernelspec": {
   "display_name": "Python 3",
   "language": "python",
   "name": "python3"
  },
  "language_info": {
   "codemirror_mode": {
    "name": "ipython",
    "version": 3
   },
   "file_extension": ".py",
   "mimetype": "text/x-python",
   "name": "python",
   "nbconvert_exporter": "python",
   "pygments_lexer": "ipython3",
   "version": "3.13.7"
  }
 },
 "nbformat": 4,
 "nbformat_minor": 5
}
